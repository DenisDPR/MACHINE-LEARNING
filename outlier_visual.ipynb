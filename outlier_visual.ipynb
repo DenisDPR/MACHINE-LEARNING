{
 "cells": [
  {
   "cell_type": "markdown",
   "metadata": {},
   "source": [
    "# Outlier Visualization\n"
   ]
  },
  {
   "cell_type": "code",
   "execution_count": 1,
   "metadata": {},
   "outputs": [
    {
     "data": {
      "image/png": "[encoded data removed]",
      "text/plain": [
       "<matplotlib.figure.Figure at 0x11470b510>"
      ]
     },
     "metadata": {},
     "output_type": "display_data"
    }
   ],
   "source": [
    "#!/usr/bin/python\n",
    "\n",
    "import pickle\n",
    "import sys\n",
    "import matplotlib.pyplot\n",
    "sys.path.append(\"../tools/\")\n",
    "from feature_format import featureFormat, targetFeatureSplit\n",
    "\n",
    "\n",
    "### read in data dictionary, convert to numpy array\n",
    "data_dict = pickle.load( open(\"../final_project/final_project_dataset.pkl\", \"r\") )\n",
    "features = [\"salary\", \"bonus\"]\n",
    "#data_dict.pop('TOTAL',0)\n",
    "\n",
    "data = featureFormat(data_dict, features)\n",
    "\n",
    "### your code below\n",
    "for point in data:\n",
    "    salary = point[0]\n",
    "    bonus = point[1]\n",
    "    matplotlib.pyplot.scatter( salary, bonus )\n",
    "\n",
    "matplotlib.pyplot.xlabel(\"salary\")\n",
    "matplotlib.pyplot.ylabel(\"bonus\")\n",
    "matplotlib.pyplot.show()\n",
    "\n",
    "salaryList = []\n",
    "bonusList = []\n"
   ]
  },
  {
   "cell_type": "markdown",
   "metadata": {},
   "source": [
    "## Look at the data and figure out that one outlier"
   ]
  },
  {
   "cell_type": "code",
   "execution_count": 2,
   "metadata": {},
   "outputs": [
    {
     "name": "stdout",
     "output_type": "stream",
     "text": [
      "salary:  [365788.0, 267102.0, 170941.0, 243293.0, 267093.0, 370448.0, 197091.0, 130724.0, 288589.0, 248546.0, 257486.0, 288542.0, 251654.0, 288558.0, 63744.0, 357091.0, 271442.0, 304110.0, 187922.0, 213625.0, 249201.0, 231330.0, 182245.0, 211788.0, 224305.0, 273746.0, 339288.0, 216582.0, 210500.0, 272880.0, 477.0, 269076.0, 428780.0, 211844.0, 206121.0, 174246.0, 510364.0, 365038.0, 365163.0, 162779.0, 236457.0, 1072321.0, 261516.0, 329078.0, 184899.0, 192008.0, 263413.0, 262663.0, 374125.0, 278601.0, 199157.0, 96840.0, 80818.0, 213999.0, 210692.0, 222093.0, 440698.0, 240189.0, 420636.0, 275101.0, 314288.0, 94941.0, 239502.0, 1111258.0, 6615.0, 655037.0, 404338.0, 26704229.0, 259996.0, 317543.0, 201955.0, 248146.0, 76399.0, 262788.0, 261809.0, 248017.0, 229284.0, 231946.0, 221003.0, 158403.0, 250100.0, 492375.0, 1060932.0, 261879.0, 239671.0, 304588.0, 309946.0, 85274.0, 247338.0, 349487.0, 330546.0, 415189.0, 265214.0, 278601.0, 274975.0]\n",
      "max salary; 26704229.0\n",
      "employe with max salary is ; TOTAL\n"
     ]
    }
   ],
   "source": [
    "for point in data:\n",
    "    salaryList.append(point[0])\n",
    "    bonusList.append(point[1])\n",
    "print \"salary: \", salaryList\n",
    "max_sal = max(salaryList)\n",
    "print \"max salary;\", max_sal\n",
    "\n",
    "for k,v in data_dict.iteritems():\n",
    "    if (float(v[\"salary\"]) == max_sal):\n",
    "        print \"employe with max salary is ;\",k\n"
   ]
  },
  {
   "cell_type": "markdown",
   "metadata": {},
   "source": [
    "## Remove the outlier\n",
    "## using \n",
    "### data_dict.pop('TOTAL',0) "
   ]
  },
  {
   "cell_type": "code",
   "execution_count": 3,
   "metadata": {},
   "outputs": [
    {
     "data": {
      "image/png": "[encoded data removed]",
      "text/plain": [
       "<matplotlib.figure.Figure at 0x11470b550>"
      ]
     },
     "metadata": {},
     "output_type": "display_data"
    }
   ],
   "source": [
    "### read in data dictionary, convert to numpy array\n",
    "data_dict = pickle.load( open(\"../final_project/final_project_dataset.pkl\", \"r\") )\n",
    "features = [\"salary\", \"bonus\"]\n",
    "\n",
    "data_dict.pop('TOTAL',0) ## Remove the outlier\n",
    "\n",
    "data = featureFormat(data_dict, features)\n",
    "\n",
    "### your code below\n",
    "for point in data:\n",
    "    salary = point[0]\n",
    "    bonus = point[1]\n",
    "    matplotlib.pyplot.scatter( salary, bonus )\n",
    "\n",
    "matplotlib.pyplot.xlabel(\"salary\")\n",
    "matplotlib.pyplot.ylabel(\"bonus\")\n",
    "matplotlib.pyplot.show()\n",
    "\n",
    "salaryList = []\n",
    "bonusList = []"
   ]
  },
  {
   "cell_type": "markdown",
   "metadata": {},
   "source": [
    "## We can still remove observe two outliers"
   ]
  },
  {
   "cell_type": "code",
   "execution_count": 4,
   "metadata": {},
   "outputs": [
    {
     "name": "stdout",
     "output_type": "stream",
     "text": [
      "LAY KENNETH L\n",
      "SKILLING JEFFREY K\n"
     ]
    }
   ],
   "source": [
    "for employee in data_dict:\n",
    "    if (data_dict[employee][\"salary\"] != 'NaN') and (data_dict[employee][\"bonus\"] != 'NaN'):\n",
    "        if float(data_dict[employee][\"salary\"]) >1000000 and float(data_dict[employee][\"bonus\"])>5000000:\n",
    "            print employee"
   ]
  },
  {
   "cell_type": "code",
   "execution_count": null,
   "metadata": {},
   "outputs": [],
   "source": []
  }
 ],
 "metadata": {
  "kernelspec": {
   "display_name": "Python 2",
   "language": "python",
   "name": "python2"
  },
  "language_info": {
   "codemirror_mode": {
    "name": "ipython",
    "version": 2
   },
   "file_extension": ".py",
   "mimetype": "text/x-python",
   "name": "python",
   "nbconvert_exporter": "python",
   "pygments_lexer": "ipython2",
   "version": "2.7.14"
  }
 },
 "nbformat": 4,
 "nbformat_minor": 2
}
